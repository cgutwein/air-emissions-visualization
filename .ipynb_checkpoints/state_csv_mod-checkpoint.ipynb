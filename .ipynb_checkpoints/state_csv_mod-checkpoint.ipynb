{
 "cells": [
  {
   "cell_type": "code",
   "execution_count": 1,
   "metadata": {
    "collapsed": true
   },
   "outputs": [],
   "source": [
    "import numpy as np\n",
    "import pandas as pd\n",
    "import matplotlib.pyplot as plt"
   ]
  },
  {
   "cell_type": "code",
   "execution_count": 2,
   "metadata": {
    "collapsed": true
   },
   "outputs": [],
   "source": [
    "df_states = pd.read_csv(\"d3_files/state_data_14_2.csv\")"
   ]
  },
  {
   "cell_type": "code",
   "execution_count": 21,
   "metadata": {
    "collapsed": false
   },
   "outputs": [
    {
     "name": "stderr",
     "output_type": "stream",
     "text": [
      "C:\\Users\\Gutwein\\Anaconda3\\lib\\site-packages\\ipykernel\\__main__.py:7: SettingWithCopyWarning: \n",
      "A value is trying to be set on a copy of a slice from a DataFrame\n",
      "\n",
      "See the caveats in the documentation: http://pandas.pydata.org/pandas-docs/stable/indexing.html#indexing-view-versus-copy\n"
     ]
    }
   ],
   "source": [
    "df_states.head()\n",
    "#df_states['id'] = df_states['FIPSST']\n",
    "stateCodes = {\"AL\":\"01\", \"AK\":\"02\", \"AZ\":\"04\", \"AR\":\"05\", \"CA\":\"06\", \"CO\":\"08\", \"CT\":\"09\", \"DE\":\"10\", \"DC\":\"11\", \"FL\":\"12\", \"GA\":\"13\", \"HI\":\"15\", \"ID\":\"16\", \"IL\":\"17\", \"IN\":\"18\", \"IA\":\"19\", \"KS\":\"20\", \"KY\":\"21\", \"LA\":\"22\", \"ME\":\"23\", \"MD\":\"24\", \"MA\":\"25\", \"MI\":\"26\", \"MN\":\"27\", \"MS\":\"28\", \"MO\":\"29\", \"MT\":\"30\", \"NE\":\"31\", \"NV\":\"32\", \"NH\":\"33\", \"NJ\":\"34\", \"NM\":\"35\", \"NY\":\"36\", \"NC\":\"37\", \"ND\":\"38\", \"OH\":\"39\", \"OK\":\"40\", \"OR\":\"41\", \"PA\":\"42\", \"RI\":\"44\", \"SC\":\"45\", \"SD\":\"46\", \"TN\":\"47\", \"TX\":\"48\", \"UT\":\"49\", \"VT\":\"50\", \"VA\":\"51\", \"WA\":\"53\", \"WV\":\"54\", \"WI\":\"55\", \"WY\":\"56\"\n",
    "};\n",
    "ids = df_states['PSTATABB']\n",
    "for i in range(len(ids)):\n",
    "    ids[i] = stateCodes[ids[i]]"
   ]
  },
  {
   "cell_type": "code",
   "execution_count": 22,
   "metadata": {
    "collapsed": false
   },
   "outputs": [
    {
     "name": "stdout",
     "output_type": "stream",
     "text": [
      "0     02\n",
      "1     01\n",
      "2     05\n",
      "3     04\n",
      "4     06\n",
      "5     08\n",
      "6     09\n",
      "7     11\n",
      "8     10\n",
      "9     12\n",
      "10    13\n",
      "11    15\n",
      "12    19\n",
      "13    16\n",
      "14    17\n",
      "15    18\n",
      "16    20\n",
      "17    21\n",
      "18    22\n",
      "19    25\n",
      "20    24\n",
      "21    23\n",
      "22    26\n",
      "23    27\n",
      "24    29\n",
      "25    28\n",
      "26    30\n",
      "27    37\n",
      "28    38\n",
      "29    31\n",
      "30    33\n",
      "31    34\n",
      "32    35\n",
      "33    32\n",
      "34    36\n",
      "35    39\n",
      "36    40\n",
      "37    41\n",
      "38    42\n",
      "39    44\n",
      "40    45\n",
      "41    46\n",
      "42    47\n",
      "43    48\n",
      "44    49\n",
      "45    51\n",
      "46    50\n",
      "47    53\n",
      "48    55\n",
      "49    54\n",
      "50    56\n",
      "Name: PSTATABB, dtype: object\n"
     ]
    }
   ],
   "source": [
    "print(ids)"
   ]
  },
  {
   "cell_type": "code",
   "execution_count": 23,
   "metadata": {
    "collapsed": false
   },
   "outputs": [],
   "source": [
    "state_ab = np.vstack(ids)\n",
    "co2_tons = np.vstack(df_states['STCO2AN'])\n",
    "df_exp = np.concatenate((state_ab, co2_tons), axis=1)"
   ]
  },
  {
   "cell_type": "code",
   "execution_count": 24,
   "metadata": {
    "collapsed": false
   },
   "outputs": [
    {
     "name": "stdout",
     "output_type": "stream",
     "text": [
      "   id                 co2\n",
      "0  02         2644805.351\n",
      "1  01        78643036.919\n",
      "2  05         39535585.29\n",
      "3  04        60422378.359\n",
      "4  06  54587168.903000005\n"
     ]
    }
   ],
   "source": [
    "df_exp = pd.DataFrame(df_exp)\n",
    "df_exp.columns = ['id', 'co2']\n",
    "print(df_exp.head())\n",
    "df_exp.to_csv(\"chloro_01.csv\")"
   ]
  },
  {
   "cell_type": "code",
   "execution_count": 13,
   "metadata": {
    "collapsed": false
   },
   "outputs": [],
   "source": []
  }
 ],
 "metadata": {
  "anaconda-cloud": {},
  "kernelspec": {
   "display_name": "Python [conda root]",
   "language": "python",
   "name": "conda-root-py"
  },
  "language_info": {
   "codemirror_mode": {
    "name": "ipython",
    "version": 3
   },
   "file_extension": ".py",
   "mimetype": "text/x-python",
   "name": "python",
   "nbconvert_exporter": "python",
   "pygments_lexer": "ipython3",
   "version": "3.5.2"
  }
 },
 "nbformat": 4,
 "nbformat_minor": 1
}
