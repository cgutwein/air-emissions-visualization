{
 "cells": [
  {
   "cell_type": "code",
   "execution_count": 21,
   "metadata": {
    "collapsed": true
   },
   "outputs": [],
   "source": [
    "import pandas as pd\n",
    "import numpy as np\n",
    "import matplotlib.pyplot as plt"
   ]
  },
  {
   "cell_type": "code",
   "execution_count": 3,
   "metadata": {},
   "outputs": [],
   "source": [
    "data = pd.read_excel(\"./data/Planned Retirements.xls\")"
   ]
  },
  {
   "cell_type": "code",
   "execution_count": 6,
   "metadata": {},
   "outputs": [
    {
     "data": {
      "text/html": [
       "<div>\n",
       "<style>\n",
       "    .dataframe thead tr:only-child th {\n",
       "        text-align: right;\n",
       "    }\n",
       "\n",
       "    .dataframe thead th {\n",
       "        text-align: left;\n",
       "    }\n",
       "\n",
       "    .dataframe tbody tr th {\n",
       "        vertical-align: top;\n",
       "    }\n",
       "</style>\n",
       "<table border=\"1\" class=\"dataframe\">\n",
       "  <thead>\n",
       "    <tr style=\"text-align: right;\">\n",
       "      <th></th>\n",
       "      <th>Power Plant</th>\n",
       "      <th>Unit Key</th>\n",
       "      <th>Unit Code</th>\n",
       "      <th>Technology Type</th>\n",
       "      <th>Generation Technology</th>\n",
       "      <th>Month Unit Retired From Service</th>\n",
       "      <th>Year Unit Retired From Service</th>\n",
       "      <th>Unit Nameplate Capacity</th>\n",
       "      <th>Primary Fuel Type</th>\n",
       "      <th>Secondary Fuel Type</th>\n",
       "      <th>State</th>\n",
       "      <th>Latitude</th>\n",
       "      <th>Longitude</th>\n",
       "      <th>County</th>\n",
       "      <th>Regional Transmission Organization</th>\n",
       "      <th>Technology Type.1</th>\n",
       "      <th>Fuel Cost Per MWH 2017 ($/MWH)</th>\n",
       "      <th>Fuel Cost Per MWH 2016 ($/MWH)</th>\n",
       "      <th>Fuel Cost Per MWH 2015 ($/MWH)</th>\n",
       "    </tr>\n",
       "  </thead>\n",
       "  <tbody>\n",
       "    <tr>\n",
       "      <th>0</th>\n",
       "      <td>Barney M Davis</td>\n",
       "      <td>586</td>\n",
       "      <td>1</td>\n",
       "      <td>Steam Turbine</td>\n",
       "      <td>Steam Turbine</td>\n",
       "      <td>12.0</td>\n",
       "      <td>2017.0</td>\n",
       "      <td>352.0</td>\n",
       "      <td>Natural Gas</td>\n",
       "      <td>NaN</td>\n",
       "      <td>TX</td>\n",
       "      <td>27.607839</td>\n",
       "      <td>-97.311208</td>\n",
       "      <td>Nueces</td>\n",
       "      <td>Electric Reliability Council of Texas Inc.</td>\n",
       "      <td>Steam Turbine</td>\n",
       "      <td>37.736405</td>\n",
       "      <td>32.272665</td>\n",
       "      <td>36.113295</td>\n",
       "    </tr>\n",
       "    <tr>\n",
       "      <th>1</th>\n",
       "      <td>Burlington CT (IA)</td>\n",
       "      <td>10657</td>\n",
       "      <td>GT1</td>\n",
       "      <td>Gas Turbine</td>\n",
       "      <td>Gas Turbine</td>\n",
       "      <td>12.0</td>\n",
       "      <td>2017.0</td>\n",
       "      <td>19.7</td>\n",
       "      <td>Natural Gas</td>\n",
       "      <td>NaN</td>\n",
       "      <td>IA</td>\n",
       "      <td>40.741787</td>\n",
       "      <td>-91.116614</td>\n",
       "      <td>Des Moines</td>\n",
       "      <td>Midcontinent Independent System Operator, Inc.</td>\n",
       "      <td>Gas Turbine</td>\n",
       "      <td>62.803866</td>\n",
       "      <td>58.227792</td>\n",
       "      <td>90.780533</td>\n",
       "    </tr>\n",
       "    <tr>\n",
       "      <th>2</th>\n",
       "      <td>Burlington CT (IA)</td>\n",
       "      <td>10658</td>\n",
       "      <td>GT2</td>\n",
       "      <td>Gas Turbine</td>\n",
       "      <td>Gas Turbine</td>\n",
       "      <td>12.0</td>\n",
       "      <td>2017.0</td>\n",
       "      <td>19.7</td>\n",
       "      <td>Natural Gas</td>\n",
       "      <td>NaN</td>\n",
       "      <td>IA</td>\n",
       "      <td>40.741787</td>\n",
       "      <td>-91.116614</td>\n",
       "      <td>Des Moines</td>\n",
       "      <td>Midcontinent Independent System Operator, Inc.</td>\n",
       "      <td>Gas Turbine</td>\n",
       "      <td>62.803866</td>\n",
       "      <td>58.227793</td>\n",
       "      <td>90.780530</td>\n",
       "    </tr>\n",
       "    <tr>\n",
       "      <th>3</th>\n",
       "      <td>Burlington CT (IA)</td>\n",
       "      <td>10659</td>\n",
       "      <td>GT3</td>\n",
       "      <td>Gas Turbine</td>\n",
       "      <td>Gas Turbine</td>\n",
       "      <td>12.0</td>\n",
       "      <td>2017.0</td>\n",
       "      <td>19.7</td>\n",
       "      <td>Natural Gas</td>\n",
       "      <td>NaN</td>\n",
       "      <td>IA</td>\n",
       "      <td>40.741787</td>\n",
       "      <td>-91.116614</td>\n",
       "      <td>Des Moines</td>\n",
       "      <td>Midcontinent Independent System Operator, Inc.</td>\n",
       "      <td>Gas Turbine</td>\n",
       "      <td>62.803866</td>\n",
       "      <td>58.227793</td>\n",
       "      <td>90.780533</td>\n",
       "    </tr>\n",
       "    <tr>\n",
       "      <th>4</th>\n",
       "      <td>Burlington CT (IA)</td>\n",
       "      <td>10660</td>\n",
       "      <td>GT4</td>\n",
       "      <td>Gas Turbine</td>\n",
       "      <td>Gas Turbine</td>\n",
       "      <td>12.0</td>\n",
       "      <td>2017.0</td>\n",
       "      <td>19.7</td>\n",
       "      <td>Natural Gas</td>\n",
       "      <td>NaN</td>\n",
       "      <td>IA</td>\n",
       "      <td>40.741787</td>\n",
       "      <td>-91.116614</td>\n",
       "      <td>Des Moines</td>\n",
       "      <td>Midcontinent Independent System Operator, Inc.</td>\n",
       "      <td>Gas Turbine</td>\n",
       "      <td>62.803866</td>\n",
       "      <td>58.227793</td>\n",
       "      <td>90.780533</td>\n",
       "    </tr>\n",
       "  </tbody>\n",
       "</table>\n",
       "</div>"
      ],
      "text/plain": [
       "          Power Plant  Unit Key Unit Code Technology Type  \\\n",
       "0      Barney M Davis       586         1   Steam Turbine   \n",
       "1  Burlington CT (IA)     10657       GT1     Gas Turbine   \n",
       "2  Burlington CT (IA)     10658       GT2     Gas Turbine   \n",
       "3  Burlington CT (IA)     10659       GT3     Gas Turbine   \n",
       "4  Burlington CT (IA)     10660       GT4     Gas Turbine   \n",
       "\n",
       "  Generation Technology  Month Unit Retired From Service  \\\n",
       "0         Steam Turbine                             12.0   \n",
       "1           Gas Turbine                             12.0   \n",
       "2           Gas Turbine                             12.0   \n",
       "3           Gas Turbine                             12.0   \n",
       "4           Gas Turbine                             12.0   \n",
       "\n",
       "   Year Unit Retired From Service  Unit Nameplate Capacity Primary Fuel Type  \\\n",
       "0                          2017.0                    352.0       Natural Gas   \n",
       "1                          2017.0                     19.7       Natural Gas   \n",
       "2                          2017.0                     19.7       Natural Gas   \n",
       "3                          2017.0                     19.7       Natural Gas   \n",
       "4                          2017.0                     19.7       Natural Gas   \n",
       "\n",
       "  Secondary Fuel Type State   Latitude  Longitude      County  \\\n",
       "0                 NaN    TX  27.607839 -97.311208      Nueces   \n",
       "1                 NaN    IA  40.741787 -91.116614  Des Moines   \n",
       "2                 NaN    IA  40.741787 -91.116614  Des Moines   \n",
       "3                 NaN    IA  40.741787 -91.116614  Des Moines   \n",
       "4                 NaN    IA  40.741787 -91.116614  Des Moines   \n",
       "\n",
       "               Regional Transmission Organization Technology Type.1  \\\n",
       "0      Electric Reliability Council of Texas Inc.     Steam Turbine   \n",
       "1  Midcontinent Independent System Operator, Inc.       Gas Turbine   \n",
       "2  Midcontinent Independent System Operator, Inc.       Gas Turbine   \n",
       "3  Midcontinent Independent System Operator, Inc.       Gas Turbine   \n",
       "4  Midcontinent Independent System Operator, Inc.       Gas Turbine   \n",
       "\n",
       "   Fuel Cost Per MWH 2017 ($/MWH)  Fuel Cost Per MWH 2016 ($/MWH)  \\\n",
       "0                       37.736405                       32.272665   \n",
       "1                       62.803866                       58.227792   \n",
       "2                       62.803866                       58.227793   \n",
       "3                       62.803866                       58.227793   \n",
       "4                       62.803866                       58.227793   \n",
       "\n",
       "   Fuel Cost Per MWH 2015 ($/MWH)  \n",
       "0                       36.113295  \n",
       "1                       90.780533  \n",
       "2                       90.780530  \n",
       "3                       90.780533  \n",
       "4                       90.780533  "
      ]
     },
     "execution_count": 6,
     "metadata": {},
     "output_type": "execute_result"
    }
   ],
   "source": [
    "data.describe()\n",
    "data.head(5)"
   ]
  },
  {
   "cell_type": "code",
   "execution_count": 55,
   "metadata": {},
   "outputs": [
    {
     "name": "stdout",
     "output_type": "stream",
     "text": [
      "[50 53 23 32  7  8  3  6  9  5  2  3  5  2  4  9 13  2  6  3  3  3  3  3  6\n",
      "  5  4  6  5  1  2  1]\n",
      "[2017, 2018, 2019, 2020, 2021, 2022, 2023, 2024, 2025, 2026, 2028, 2029, 2030, 2031, 2032, 2033, 2034, 2035, 2036, 2037, 2038, 2040, 2041, 2042, 2043, 2044, 2045, 2046, 2047, 2048, 2049, 2055]\n",
      "287\n"
     ]
    }
   ],
   "source": [
    "## groupby year\n",
    "\n",
    "g = data.groupby(by='Year Unit Retired From Service')\n",
    "yr_counts = g['Power Plant'].count()\n",
    "print(yr_counts.values)\n",
    "yrs = data['Year Unit Retired From Service'].unique()\n",
    "yrs = [int(i) for i in yrs[0:-1]]\n",
    "print(yrs)\n",
    "yr_counts_1 = data['Year Unit Retired From Service'].count()\n",
    "print(yr_counts_1)"
   ]
  },
  {
   "cell_type": "code",
   "execution_count": 57,
   "metadata": {},
   "outputs": [
    {
     "data": {
      "image/png": "[encoded data removed]",
      "text/plain": [
       "<matplotlib.figure.Figure at 0x122b4c668>"
      ]
     },
     "metadata": {},
     "output_type": "display_data"
    }
   ],
   "source": [
    "ind = np.arange(len(yrs))\n",
    "#print(len(yrs))\n",
    "#print(len(yr_counts))\n",
    "plt.figure(figsize = (18,4))\n",
    "p1 = plt.bar(ind, yr_counts.values, 0.35)\n",
    "plt.ylabel('Emission Generating Unit (EGU) Retirements')\n",
    "plt.title('Scheduled Plant Closures - USA')\n",
    "plt.xticks(ind, list(yrs))\n",
    "plt.yticks(np.arange(0, 60, 10))\n",
    "\n",
    "plt.show()"
   ]
  },
  {
   "cell_type": "code",
   "execution_count": 66,
   "metadata": {},
   "outputs": [
    {
     "ename": "UnicodeDecodeError",
     "evalue": "'utf-8' codec can't decode byte 0xff in position 0: invalid start byte",
     "output_type": "error",
     "traceback": [
      "\u001b[0;31m---------------------------------------------------------------------------\u001b[0m",
      "\u001b[0;31mUnicodeDecodeError\u001b[0m                        Traceback (most recent call last)",
      "\u001b[0;32m<ipython-input-66-5b4289e7fe6e>\u001b[0m in \u001b[0;36m<module>\u001b[0;34m()\u001b[0m\n\u001b[1;32m      1\u001b[0m \u001b[0;31m## Step 1, Load .xls from eGRID 2014 and pull appropriate data\u001b[0m\u001b[0;34m\u001b[0m\u001b[0;34m\u001b[0m\u001b[0m\n\u001b[0;32m----> 2\u001b[0;31m \u001b[0mdata_1\u001b[0m \u001b[0;34m=\u001b[0m \u001b[0mpd\u001b[0m\u001b[0;34m.\u001b[0m\u001b[0mread_csv\u001b[0m\u001b[0;34m(\u001b[0m\u001b[0;34m\"./data/GEN14.csv\"\u001b[0m\u001b[0;34m)\u001b[0m\u001b[0;34m\u001b[0m\u001b[0m\n\u001b[0m",
      "\u001b[0;32m/Users/Gutwein/anaconda/lib/python3.6/site-packages/pandas/io/parsers.py\u001b[0m in \u001b[0;36mparser_f\u001b[0;34m(filepath_or_buffer, sep, delimiter, header, names, index_col, usecols, squeeze, prefix, mangle_dupe_cols, dtype, engine, converters, true_values, false_values, skipinitialspace, skiprows, nrows, na_values, keep_default_na, na_filter, verbose, skip_blank_lines, parse_dates, infer_datetime_format, keep_date_col, date_parser, dayfirst, iterator, chunksize, compression, thousands, decimal, lineterminator, quotechar, quoting, escapechar, comment, encoding, dialect, tupleize_cols, error_bad_lines, warn_bad_lines, skipfooter, skip_footer, doublequote, delim_whitespace, as_recarray, compact_ints, use_unsigned, low_memory, buffer_lines, memory_map, float_precision)\u001b[0m\n\u001b[1;32m    653\u001b[0m                     skip_blank_lines=skip_blank_lines)\n\u001b[1;32m    654\u001b[0m \u001b[0;34m\u001b[0m\u001b[0m\n\u001b[0;32m--> 655\u001b[0;31m         \u001b[0;32mreturn\u001b[0m \u001b[0m_read\u001b[0m\u001b[0;34m(\u001b[0m\u001b[0mfilepath_or_buffer\u001b[0m\u001b[0;34m,\u001b[0m \u001b[0mkwds\u001b[0m\u001b[0;34m)\u001b[0m\u001b[0;34m\u001b[0m\u001b[0m\n\u001b[0m\u001b[1;32m    656\u001b[0m \u001b[0;34m\u001b[0m\u001b[0m\n\u001b[1;32m    657\u001b[0m     \u001b[0mparser_f\u001b[0m\u001b[0;34m.\u001b[0m\u001b[0m__name__\u001b[0m \u001b[0;34m=\u001b[0m \u001b[0mname\u001b[0m\u001b[0;34m\u001b[0m\u001b[0m\n",
      "\u001b[0;32m/Users/Gutwein/anaconda/lib/python3.6/site-packages/pandas/io/parsers.py\u001b[0m in \u001b[0;36m_read\u001b[0;34m(filepath_or_buffer, kwds)\u001b[0m\n\u001b[1;32m    403\u001b[0m \u001b[0;34m\u001b[0m\u001b[0m\n\u001b[1;32m    404\u001b[0m     \u001b[0;31m# Create the parser.\u001b[0m\u001b[0;34m\u001b[0m\u001b[0;34m\u001b[0m\u001b[0m\n\u001b[0;32m--> 405\u001b[0;31m     \u001b[0mparser\u001b[0m \u001b[0;34m=\u001b[0m \u001b[0mTextFileReader\u001b[0m\u001b[0;34m(\u001b[0m\u001b[0mfilepath_or_buffer\u001b[0m\u001b[0;34m,\u001b[0m \u001b[0;34m**\u001b[0m\u001b[0mkwds\u001b[0m\u001b[0;34m)\u001b[0m\u001b[0;34m\u001b[0m\u001b[0m\n\u001b[0m\u001b[1;32m    406\u001b[0m \u001b[0;34m\u001b[0m\u001b[0m\n\u001b[1;32m    407\u001b[0m     \u001b[0;32mif\u001b[0m \u001b[0mchunksize\u001b[0m \u001b[0;32mor\u001b[0m \u001b[0miterator\u001b[0m\u001b[0;34m:\u001b[0m\u001b[0;34m\u001b[0m\u001b[0m\n",
      "\u001b[0;32m/Users/Gutwein/anaconda/lib/python3.6/site-packages/pandas/io/parsers.py\u001b[0m in \u001b[0;36m__init__\u001b[0;34m(self, f, engine, **kwds)\u001b[0m\n\u001b[1;32m    760\u001b[0m             \u001b[0mself\u001b[0m\u001b[0;34m.\u001b[0m\u001b[0moptions\u001b[0m\u001b[0;34m[\u001b[0m\u001b[0;34m'has_index_names'\u001b[0m\u001b[0;34m]\u001b[0m \u001b[0;34m=\u001b[0m \u001b[0mkwds\u001b[0m\u001b[0;34m[\u001b[0m\u001b[0;34m'has_index_names'\u001b[0m\u001b[0;34m]\u001b[0m\u001b[0;34m\u001b[0m\u001b[0m\n\u001b[1;32m    761\u001b[0m \u001b[0;34m\u001b[0m\u001b[0m\n\u001b[0;32m--> 762\u001b[0;31m         \u001b[0mself\u001b[0m\u001b[0;34m.\u001b[0m\u001b[0m_make_engine\u001b[0m\u001b[0;34m(\u001b[0m\u001b[0mself\u001b[0m\u001b[0;34m.\u001b[0m\u001b[0mengine\u001b[0m\u001b[0;34m)\u001b[0m\u001b[0;34m\u001b[0m\u001b[0m\n\u001b[0m\u001b[1;32m    763\u001b[0m \u001b[0;34m\u001b[0m\u001b[0m\n\u001b[1;32m    764\u001b[0m     \u001b[0;32mdef\u001b[0m \u001b[0mclose\u001b[0m\u001b[0;34m(\u001b[0m\u001b[0mself\u001b[0m\u001b[0;34m)\u001b[0m\u001b[0;34m:\u001b[0m\u001b[0;34m\u001b[0m\u001b[0m\n",
      "\u001b[0;32m/Users/Gutwein/anaconda/lib/python3.6/site-packages/pandas/io/parsers.py\u001b[0m in \u001b[0;36m_make_engine\u001b[0;34m(self, engine)\u001b[0m\n\u001b[1;32m    964\u001b[0m     \u001b[0;32mdef\u001b[0m \u001b[0m_make_engine\u001b[0m\u001b[0;34m(\u001b[0m\u001b[0mself\u001b[0m\u001b[0;34m,\u001b[0m \u001b[0mengine\u001b[0m\u001b[0;34m=\u001b[0m\u001b[0;34m'c'\u001b[0m\u001b[0;34m)\u001b[0m\u001b[0;34m:\u001b[0m\u001b[0;34m\u001b[0m\u001b[0m\n\u001b[1;32m    965\u001b[0m         \u001b[0;32mif\u001b[0m \u001b[0mengine\u001b[0m \u001b[0;34m==\u001b[0m \u001b[0;34m'c'\u001b[0m\u001b[0;34m:\u001b[0m\u001b[0;34m\u001b[0m\u001b[0m\n\u001b[0;32m--> 966\u001b[0;31m             \u001b[0mself\u001b[0m\u001b[0;34m.\u001b[0m\u001b[0m_engine\u001b[0m \u001b[0;34m=\u001b[0m \u001b[0mCParserWrapper\u001b[0m\u001b[0;34m(\u001b[0m\u001b[0mself\u001b[0m\u001b[0;34m.\u001b[0m\u001b[0mf\u001b[0m\u001b[0;34m,\u001b[0m \u001b[0;34m**\u001b[0m\u001b[0mself\u001b[0m\u001b[0;34m.\u001b[0m\u001b[0moptions\u001b[0m\u001b[0;34m)\u001b[0m\u001b[0;34m\u001b[0m\u001b[0m\n\u001b[0m\u001b[1;32m    967\u001b[0m         \u001b[0;32melse\u001b[0m\u001b[0;34m:\u001b[0m\u001b[0;34m\u001b[0m\u001b[0m\n\u001b[1;32m    968\u001b[0m             \u001b[0;32mif\u001b[0m \u001b[0mengine\u001b[0m \u001b[0;34m==\u001b[0m \u001b[0;34m'python'\u001b[0m\u001b[0;34m:\u001b[0m\u001b[0;34m\u001b[0m\u001b[0m\n",
      "\u001b[0;32m/Users/Gutwein/anaconda/lib/python3.6/site-packages/pandas/io/parsers.py\u001b[0m in \u001b[0;36m__init__\u001b[0;34m(self, src, **kwds)\u001b[0m\n\u001b[1;32m   1580\u001b[0m         \u001b[0mkwds\u001b[0m\u001b[0;34m[\u001b[0m\u001b[0;34m'allow_leading_cols'\u001b[0m\u001b[0;34m]\u001b[0m \u001b[0;34m=\u001b[0m \u001b[0mself\u001b[0m\u001b[0;34m.\u001b[0m\u001b[0mindex_col\u001b[0m \u001b[0;32mis\u001b[0m \u001b[0;32mnot\u001b[0m \u001b[0;32mFalse\u001b[0m\u001b[0;34m\u001b[0m\u001b[0m\n\u001b[1;32m   1581\u001b[0m \u001b[0;34m\u001b[0m\u001b[0m\n\u001b[0;32m-> 1582\u001b[0;31m         \u001b[0mself\u001b[0m\u001b[0;34m.\u001b[0m\u001b[0m_reader\u001b[0m \u001b[0;34m=\u001b[0m \u001b[0mparsers\u001b[0m\u001b[0;34m.\u001b[0m\u001b[0mTextReader\u001b[0m\u001b[0;34m(\u001b[0m\u001b[0msrc\u001b[0m\u001b[0;34m,\u001b[0m \u001b[0;34m**\u001b[0m\u001b[0mkwds\u001b[0m\u001b[0;34m)\u001b[0m\u001b[0;34m\u001b[0m\u001b[0m\n\u001b[0m\u001b[1;32m   1583\u001b[0m \u001b[0;34m\u001b[0m\u001b[0m\n\u001b[1;32m   1584\u001b[0m         \u001b[0;31m# XXX\u001b[0m\u001b[0;34m\u001b[0m\u001b[0;34m\u001b[0m\u001b[0m\n",
      "\u001b[0;32mpandas/_libs/parsers.pyx\u001b[0m in \u001b[0;36mpandas._libs.parsers.TextReader.__cinit__ (pandas/_libs/parsers.c:6175)\u001b[0;34m()\u001b[0m\n",
      "\u001b[0;32mpandas/_libs/parsers.pyx\u001b[0m in \u001b[0;36mpandas._libs.parsers.TextReader._get_header (pandas/_libs/parsers.c:9691)\u001b[0;34m()\u001b[0m\n",
      "\u001b[0;31mUnicodeDecodeError\u001b[0m: 'utf-8' codec can't decode byte 0xff in position 0: invalid start byte"
     ]
    }
   ],
   "source": [
    "## Step 1, Load .xls from eGRID 2014 and pull appropriate data\n",
    "data_1 = pd.read_csv(\"./data/GEN14.csv\")"
   ]
  },
  {
   "cell_type": "code",
   "execution_count": 64,
   "metadata": {},
   "outputs": [
    {
     "name": "stdout",
     "output_type": "stream",
     "text": [
      "42\n"
     ]
    }
   ],
   "source": [
    "## take a peek at the first 10 rows\n",
    "print(len(data_1))"
   ]
  }
 ],
 "metadata": {
  "kernelspec": {
   "display_name": "Python 3",
   "language": "python",
   "name": "python3"
  },
  "language_info": {
   "codemirror_mode": {
    "name": "ipython",
    "version": 3
   },
   "file_extension": ".py",
   "mimetype": "text/x-python",
   "name": "python",
   "nbconvert_exporter": "python",
   "pygments_lexer": "ipython3",
   "version": "3.6.1"
  }
 },
 "nbformat": 4,
 "nbformat_minor": 2
}
